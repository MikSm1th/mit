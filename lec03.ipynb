{
 "cells": [
  {
   "cell_type": "code",
   "execution_count": 3,
   "metadata": {},
   "outputs": [
    {
     "name": "stdin",
     "output_type": "stream",
     "text": [
      "Enter an integer:  125\n"
     ]
    },
    {
     "name": "stdout",
     "output_type": "stream",
     "text": [
      "Cube root of 125 is 5\n"
     ]
    }
   ],
   "source": [
    "#Find the cube root of a perfect cube\n",
    "x = int(input('Enter an integer: '))\n",
    "ans = 0\n",
    "while ans*ans*ans < abs(x):\n",
    "    ans = ans + 1\n",
    "    #print 'current guess =', ans\n",
    "if ans*ans*ans != abs(x):\n",
    "    print(x, 'is not a perfect cube')\n",
    "else:\n",
    "    if x < 0:\n",
    "        ans = -ans\n",
    "    print('Cube root of ' + str(x) + ' is ' + str(ans))"
   ]
  },
  {
   "cell_type": "code",
   "execution_count": 3,
   "metadata": {},
   "outputs": [
    {
     "name": "stdin",
     "output_type": "stream",
     "text": [
      "Enter an integer:  8\n"
     ]
    },
    {
     "name": "stdout",
     "output_type": "stream",
     "text": [
      "Cube root of 8 is 2\n"
     ]
    },
    {
     "name": "stdin",
     "output_type": "stream",
     "text": [
      "Enter an integer:  8\n"
     ]
    },
    {
     "name": "stdout",
     "output_type": "stream",
     "text": [
      "Cube root of 8 is 2\n"
     ]
    }
   ],
   "source": [
    "#Find the cube root of a perfect cube\n",
    "x = int(input('Enter an integer: '))\n",
    "for ans in range(0, abs(x)+1):\n",
    "    if ans**3 == abs(x):\n",
    "        break\n",
    "if ans**3 != abs(x):\n",
    "    print(x, 'is not a perfect cube')\n",
    "else:\n",
    "    if x < 0:\n",
    "        ans = -ans\n",
    "    print('Cube root of ' + str(x) + ' is ' + str(ans))"
   ]
  },
  {
   "cell_type": "code",
   "execution_count": 4,
   "metadata": {},
   "outputs": [
    {
     "name": "stdout",
     "output_type": "stream",
     "text": [
      "numGuesses = 499900\n",
      "4.998999999979917 is close to square root of 25\n"
     ]
    }
   ],
   "source": [
    "x = 25\n",
    "epsilon = 0.01\n",
    "numGuesses = 0\n",
    "ans = 0.0\n",
    "while abs(ans**2 - x) >= epsilon and ans <= x:\n",
    "    ans += 0.00001\n",
    "    numGuesses += 1\n",
    "print('numGuesses =', numGuesses)\n",
    "if abs(ans**2 - x) >= epsilon:\n",
    "    print('Failed on square root of', x)\n",
    "else:\n",
    "    print(ans, 'is close to square root of', x)"
   ]
  },
  {
   "cell_type": "code",
   "execution_count": 13,
   "metadata": {},
   "outputs": [
    {
     "name": "stdout",
     "output_type": "stream",
     "text": [
      "0.0 12345 6172.5\n",
      "0.0 6172.5 3086.25\n",
      "0.0 3086.25 1543.125\n",
      "0.0 1543.125 771.5625\n",
      "0.0 771.5625 385.78125\n",
      "0.0 385.78125 192.890625\n",
      "0.0 192.890625 96.4453125\n",
      "96.4453125 192.890625 144.66796875\n",
      "96.4453125 144.66796875 120.556640625\n",
      "96.4453125 120.556640625 108.5009765625\n",
      "108.5009765625 120.556640625 114.52880859375\n",
      "108.5009765625 114.52880859375 111.514892578125\n",
      "108.5009765625 111.514892578125 110.0079345703125\n",
      "110.0079345703125 111.514892578125 110.76141357421875\n",
      "110.76141357421875 111.514892578125 111.13815307617188\n",
      "110.76141357421875 111.13815307617188 110.94978332519531\n",
      "110.94978332519531 111.13815307617188 111.0439682006836\n",
      "111.0439682006836 111.13815307617188 111.09106063842773\n",
      "111.09106063842773 111.13815307617188 111.1146068572998\n",
      "111.09106063842773 111.1146068572998 111.10283374786377\n",
      "111.10283374786377 111.1146068572998 111.10872030258179\n",
      "111.10283374786377 111.10872030258179 111.10577702522278\n",
      "111.10577702522278 111.10872030258179 111.10724866390228\n",
      "111.10724866390228 111.10872030258179 111.10798448324203\n",
      "111.10798448324203 111.10872030258179 111.10835239291191\n",
      "111.10798448324203 111.10835239291191 111.10816843807697\n",
      "numGuesses = 26\n",
      "111.1080764606595 is close to square root of 12345\n"
     ]
    }
   ],
   "source": [
    "x = 12345\n",
    "epsilon = 0.01\n",
    "numGuesses = 0\n",
    "low = 0.0\n",
    "high = x\n",
    "ans = (high + low)/2.0\n",
    "while abs(ans**2 - x) >= epsilon and ans <= x:\n",
    "    print(low, high, ans)\n",
    "    numGuesses += 1\n",
    "    if ans**2 < x:\n",
    "        low = ans\n",
    "    else:\n",
    "        high = ans\n",
    "    ans = (high + low)/2.0\n",
    "print('numGuesses =', numGuesses)\n",
    "print(ans, 'is close to square root of', x)"
   ]
  },
  {
   "cell_type": "markdown",
   "metadata": {},
   "source": [
    "## Biscetion search\n",
    "1. Cut search space in half each time"
   ]
  },
  {
   "cell_type": "code",
   "execution_count": 12,
   "metadata": {},
   "outputs": [
    {
     "name": "stdout",
     "output_type": "stream",
     "text": [
      "yes\n",
      "no\n"
     ]
    }
   ],
   "source": [
    "def withinEpsilon(x, y, epsilon):\n",
    "    \"\"\"x, y, epsilon all ints or floats\n",
    "       returns true if x is within epsilon of y\"\"\"\n",
    "    return abs(x - y) <= epsilon\n",
    "\n",
    "if withinEpsilon(25, 26, 1):\n",
    "    print('yes')\n",
    "else:\n",
    "    print('no')\n",
    "\n",
    "if withinEpsilon(25, 26, 0.9):\n",
    "    print('yes')\n",
    "else:\n",
    "    print('no')"
   ]
  },
  {
   "cell_type": "code",
   "execution_count": null,
   "metadata": {},
   "outputs": [],
   "source": []
  }
 ],
 "metadata": {
  "kernelspec": {
   "display_name": "venv_mit",
   "language": "python",
   "name": "venv_mit"
  },
  "language_info": {
   "codemirror_mode": {
    "name": "ipython",
    "version": 3
   },
   "file_extension": ".py",
   "mimetype": "text/x-python",
   "name": "python",
   "nbconvert_exporter": "python",
   "pygments_lexer": "ipython3",
   "version": "3.8.8"
  }
 },
 "nbformat": 4,
 "nbformat_minor": 4
}
