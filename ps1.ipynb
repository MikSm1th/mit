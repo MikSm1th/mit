{
 "cells": [
  {
   "cell_type": "code",
   "execution_count": 2,
   "metadata": {},
   "outputs": [],
   "source": [
    "balance = 5000\n",
    "annual_interest = 0.18\n",
    "min_month_rate = 0.02\n",
    "\n",
    "min_monthly_pay = min_month_rate * balance\n",
    "interest_paid = (annual_interest/12) * balance\n",
    "principle_paid = min_monthly_pay - interest_paid\n",
    "remaining_balance = balance - principle_paid"
   ]
  },
  {
   "cell_type": "code",
   "execution_count": 3,
   "metadata": {},
   "outputs": [
    {
     "data": {
      "text/plain": [
       "100.0"
      ]
     },
     "execution_count": 3,
     "metadata": {},
     "output_type": "execute_result"
    }
   ],
   "source": [
    "min_monthly_pay"
   ]
  },
  {
   "cell_type": "code",
   "execution_count": 4,
   "metadata": {},
   "outputs": [
    {
     "data": {
      "text/plain": [
       "75.0"
      ]
     },
     "execution_count": 4,
     "metadata": {},
     "output_type": "execute_result"
    }
   ],
   "source": [
    "interest_paid"
   ]
  },
  {
   "cell_type": "code",
   "execution_count": 5,
   "metadata": {},
   "outputs": [
    {
     "data": {
      "text/plain": [
       "25.0"
      ]
     },
     "execution_count": 5,
     "metadata": {},
     "output_type": "execute_result"
    }
   ],
   "source": [
    "principle_paid"
   ]
  },
  {
   "cell_type": "code",
   "execution_count": 6,
   "metadata": {},
   "outputs": [
    {
     "data": {
      "text/plain": [
       "4975.0"
      ]
     },
     "execution_count": 6,
     "metadata": {},
     "output_type": "execute_result"
    }
   ],
   "source": [
    "remaining_balance"
   ]
  },
  {
   "cell_type": "code",
   "execution_count": 7,
   "metadata": {},
   "outputs": [],
   "source": [
    "balance = 4800 #input('Enter the outstanding balance on your credit card:')"
   ]
  },
  {
   "cell_type": "code",
   "execution_count": 8,
   "metadata": {},
   "outputs": [],
   "source": [
    "annual_interest = .2 # input('Enter the annual credit card interest rate as a decimal:')"
   ]
  },
  {
   "cell_type": "code",
   "execution_count": 9,
   "metadata": {},
   "outputs": [],
   "source": [
    "min_month_rate = .04 #input('Enter the minimum monthly payment rate as a decimal:')"
   ]
  },
  {
   "cell_type": "code",
   "execution_count": 10,
   "metadata": {},
   "outputs": [],
   "source": [
    "def min_monthly_payment_for_a_year(balance, annual_interest, min_month_rate):\n",
    "    balance = float(balance)\n",
    "    print(f'Starting balance: ${balance:.2f}')\n",
    "    for i in range(1,13):\n",
    "        print('Month:', i)\n",
    "        min_monthly_pay = float(min_month_rate) * balance\n",
    "        print(f'Minimum monthly payment: ${min_monthly_pay:.2f}')\n",
    "        interest_paid = (float(annual_interest)/12.0) * balance\n",
    "        principle_paid = min_monthly_pay - interest_paid\n",
    "        print(f'Principle paid: ${principle_paid:.2f}')\n",
    "        balance = balance - principle_paid\n",
    "        print(f'Remaining balance: ${balance:.2f}' )"
   ]
  },
  {
   "cell_type": "code",
   "execution_count": 11,
   "metadata": {
    "scrolled": true
   },
   "outputs": [
    {
     "name": "stdout",
     "output_type": "stream",
     "text": [
      "Starting balance: $4800.00\n",
      "Month: 1\n",
      "Minimum monthly payment: $192.00\n",
      "Principle paid: $112.00\n",
      "Remaining balance: $4688.00\n",
      "Month: 2\n",
      "Minimum monthly payment: $187.52\n",
      "Principle paid: $109.39\n",
      "Remaining balance: $4578.61\n",
      "Month: 3\n",
      "Minimum monthly payment: $183.14\n",
      "Principle paid: $106.83\n",
      "Remaining balance: $4471.78\n",
      "Month: 4\n",
      "Minimum monthly payment: $178.87\n",
      "Principle paid: $104.34\n",
      "Remaining balance: $4367.44\n",
      "Month: 5\n",
      "Minimum monthly payment: $174.70\n",
      "Principle paid: $101.91\n",
      "Remaining balance: $4265.53\n",
      "Month: 6\n",
      "Minimum monthly payment: $170.62\n",
      "Principle paid: $99.53\n",
      "Remaining balance: $4166.00\n",
      "Month: 7\n",
      "Minimum monthly payment: $166.64\n",
      "Principle paid: $97.21\n",
      "Remaining balance: $4068.79\n",
      "Month: 8\n",
      "Minimum monthly payment: $162.75\n",
      "Principle paid: $94.94\n",
      "Remaining balance: $3973.86\n",
      "Month: 9\n",
      "Minimum monthly payment: $158.95\n",
      "Principle paid: $92.72\n",
      "Remaining balance: $3881.13\n",
      "Month: 10\n",
      "Minimum monthly payment: $155.25\n",
      "Principle paid: $90.56\n",
      "Remaining balance: $3790.57\n",
      "Month: 11\n",
      "Minimum monthly payment: $151.62\n",
      "Principle paid: $88.45\n",
      "Remaining balance: $3702.13\n",
      "Month: 12\n",
      "Minimum monthly payment: $148.09\n",
      "Principle paid: $86.38\n",
      "Remaining balance: $3615.74\n"
     ]
    }
   ],
   "source": [
    "min_monthly_payment_for_a_year(balance, annual_interest, min_month_rate)"
   ]
  },
  {
   "cell_type": "code",
   "execution_count": 9,
   "metadata": {},
   "outputs": [],
   "source": [
    "balance = 32000\n",
    "annual_interest = 0.2"
   ]
  },
  {
   "cell_type": "code",
   "execution_count": 10,
   "metadata": {},
   "outputs": [],
   "source": [
    "payment = 10 "
   ]
  },
  {
   "cell_type": "code",
   "execution_count": 11,
   "metadata": {},
   "outputs": [],
   "source": [
    "def twelve_months_paid(balance, annual_interest, payment):\n",
    "    monthly_interest_rate = annual_interest/12.0\n",
    "    previous_balance = balance\n",
    "    minimum_monthly_payment = payment\n",
    "    pay_list = []\n",
    "    for i in range(1,13):\n",
    "        updated_balance = previous_balance * (1 + monthly_interest_rate) - minimum_monthly_payment\n",
    "        previous_balance = updated_balance\n",
    "        pay_list.append((minimum_monthly_payment,i,previous_balance))\n",
    "    return pay_list"
   ]
  },
  {
   "cell_type": "code",
   "execution_count": 12,
   "metadata": {},
   "outputs": [
    {
     "name": "stdout",
     "output_type": "stream",
     "text": [
      "finished\n"
     ]
    }
   ],
   "source": [
    "end_balance = balance\n",
    "while end_balance > 0: \n",
    "    payment = payment + 10\n",
    "    pay_list = twelve_months_paid(balance, annual_interest, payment)\n",
    "    payment, month, end_balance = pay_list[-1]\n",
    "print('finished')"
   ]
  },
  {
   "cell_type": "code",
   "execution_count": 13,
   "metadata": {},
   "outputs": [
    {
     "data": {
      "text/plain": [
       "(2970, 12, -74.97661314499283)"
      ]
     },
     "execution_count": 13,
     "metadata": {},
     "output_type": "execute_result"
    }
   ],
   "source": [
    "payment, month, end_balance"
   ]
  },
  {
   "cell_type": "code",
   "execution_count": 14,
   "metadata": {},
   "outputs": [],
   "source": [
    "less_than_zero = [i for i in pay_list if i[2] < 0]\n",
    "paid_off = [[(i) for i, j, k in less_than_zero], \n",
    "           [ j for i, j, k in less_than_zero ],\n",
    "           [ k for i, j, k in less_than_zero]]\n",
    "payment, month, balance = paid_off[0][0], min(paid_off[1]), max(paid_off[2])"
   ]
  },
  {
   "cell_type": "code",
   "execution_count": 15,
   "metadata": {},
   "outputs": [
    {
     "data": {
      "text/plain": [
       "(2970, 12, -74.97661314499283)"
      ]
     },
     "execution_count": 15,
     "metadata": {},
     "output_type": "execute_result"
    }
   ],
   "source": [
    "payment, month, balance"
   ]
  },
  {
   "cell_type": "code",
   "execution_count": 16,
   "metadata": {},
   "outputs": [],
   "source": [
    "def twelve_months_paid(balance, annual_interest, payment):\n",
    "    monthly_interest_rate = annual_interest/12.0\n",
    "    previous_balance = balance\n",
    "    minimum_monthly_payment = payment\n",
    "    pay_list = []\n",
    "    for i in range(1,13):\n",
    "        updated_balance = previous_balance * (1 + monthly_interest_rate) - minimum_monthly_payment\n",
    "        previous_balance = updated_balance\n",
    "        pay_list.append((minimum_monthly_payment,i,previous_balance))\n",
    "    return pay_list"
   ]
  },
  {
   "cell_type": "code",
   "execution_count": 23,
   "metadata": {
    "scrolled": true
   },
   "outputs": [
    {
     "name": "stdout",
     "output_type": "stream",
     "text": [
      "83333.25 99634.74798694688 91483.99899347345\n",
      "finished\n"
     ]
    }
   ],
   "source": [
    "balance = 999999\n",
    "annual_interest = 0.18\n",
    "end_balance = balance\n",
    "epsilon = 0.01\n",
    "monthly_payment_low = balance/12.0\n",
    "monthly_payment_high = (balance * (1 + (annual_interest/12.0))**12.0) / 12.0\n",
    "\n",
    "payment = (monthly_payment_high + monthly_payment_low)/2.0\n",
    "\n",
    "while end_balance > 0 and abs(payment*2 - end_balance) >= epsilon:\n",
    "    print(monthly_payment_low, monthly_payment_high, payment)\n",
    "    if payment*2 < end_balance:\n",
    "        monthly_payment_low = payment\n",
    "    else:\n",
    "        monthly_payment_high = payment\n",
    "    payment = (monthly_payment_high + monthly_payment_low)/2.0\n",
    "    pay_list = twelve_months_paid(balance, annual_interest, payment)\n",
    "    payment, month, end_balance = pay_list[-1]\n",
    "print('finished')"
   ]
  },
  {
   "cell_type": "code",
   "execution_count": 24,
   "metadata": {},
   "outputs": [
    {
     "data": {
      "text/plain": [
       "[(95559.37349021016, 1, 919439.6115097897),\n",
       " (95559.37349021016, 2, 837671.8321922263),\n",
       " (95559.37349021016, 3, 754677.5361848995),\n",
       " (95559.37349021016, 4, 670438.3257374627),\n",
       " (95559.37349021016, 5, 584935.5271333144),\n",
       " (95559.37349021016, 6, 498150.18655010394),\n",
       " (95559.37349021016, 7, 410063.0658581453),\n",
       " (95559.37349021016, 8, 320654.6383558073),\n",
       " (95559.37349021016, 9, 229905.08444093418),\n",
       " (95559.37349021016, 10, 137794.28721733802),\n",
       " (95559.37349021016, 11, 44301.82803538791),\n",
       " (95559.37349021016, 12, -50593.01803429143)]"
      ]
     },
     "execution_count": 24,
     "metadata": {},
     "output_type": "execute_result"
    }
   ],
   "source": [
    "pay_list"
   ]
  },
  {
   "cell_type": "code",
   "execution_count": null,
   "metadata": {},
   "outputs": [],
   "source": []
  },
  {
   "cell_type": "code",
   "execution_count": null,
   "metadata": {},
   "outputs": [],
   "source": []
  },
  {
   "cell_type": "code",
   "execution_count": null,
   "metadata": {},
   "outputs": [],
   "source": []
  },
  {
   "cell_type": "code",
   "execution_count": null,
   "metadata": {},
   "outputs": [],
   "source": []
  },
  {
   "cell_type": "code",
   "execution_count": null,
   "metadata": {},
   "outputs": [],
   "source": []
  },
  {
   "cell_type": "code",
   "execution_count": null,
   "metadata": {},
   "outputs": [],
   "source": []
  }
 ],
 "metadata": {
  "kernelspec": {
   "display_name": "venv_mit",
   "language": "python",
   "name": "venv_mit"
  },
  "language_info": {
   "codemirror_mode": {
    "name": "ipython",
    "version": 3
   },
   "file_extension": ".py",
   "mimetype": "text/x-python",
   "name": "python",
   "nbconvert_exporter": "python",
   "pygments_lexer": "ipython3",
   "version": "3.8.8"
  }
 },
 "nbformat": 4,
 "nbformat_minor": 4
}
