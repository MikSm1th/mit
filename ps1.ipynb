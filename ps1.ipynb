{
 "cells": [
  {
   "cell_type": "code",
   "execution_count": 2,
   "metadata": {},
   "outputs": [],
   "source": [
    "from ps1 import twelve_months_paid\n",
    "import numpy as np"
   ]
  },
  {
   "cell_type": "code",
   "execution_count": 19,
   "metadata": {},
   "outputs": [
    {
     "name": "stdout",
     "output_type": "stream",
     "text": [
      "0\n",
      "960.0334589292671 12 -565.0132220651905\n",
      "1\n",
      "896.6417294646335 12 261.69172484520186\n",
      "2\n",
      "928.3375941969502 12 -151.66074860999083\n",
      "3\n",
      "912.4896618307919 12 55.01548811760256\n",
      "4\n",
      "920.4136280138711 12 -48.32263024619465\n",
      "5\n",
      "916.4516449223315 12 3.34642893570458\n",
      "6\n",
      "918.4326364681012 12 -22.488100655243443\n",
      "7\n",
      "917.4421406952164 12 -9.570835859768863\n",
      "8\n",
      "916.946892808774 12 -3.1122034620317436\n",
      "9\n",
      "916.6992688655528 12 0.1171127368334055\n",
      "10\n",
      "916.8230808371634 12 -1.497545362597748\n",
      "11\n",
      "916.7611748513581 12 -0.690216312880807\n",
      "12\n",
      "916.7302218584555 12 -0.28655178802227965\n",
      "13\n",
      "916.7147453620041 12 -0.08471952559068541\n",
      "14\n",
      "916.7070071137784 12 0.01619660561937053\n",
      "15\n",
      "916.7108762378913 12 -0.03426145998423635\n",
      "16\n",
      "916.7089416758349 12 -0.009032427184024527\n",
      "17\n",
      "916.7079743948067 12 0.0035820892157971684\n",
      "Number of guesses: 17\n",
      "Lowest payment: 916.71\n"
     ]
    }
   ],
   "source": [
    "balance = 9999\n",
    "annual_interest = 0.18\n",
    "end_balance = balance\n",
    "epsilon = 0.01\n",
    "monthly_payment_low = balance/12.0\n",
    "monthly_payment_high = ((balance * (1 + annual_interest/12.0)**12.0)/11.0)\n",
    "num_of_guesses = 0\n",
    "twelveth_month = []\n",
    "monthly_payment_low, monthly_payment_high\n",
    "\n",
    "while abs(end_balance) > epsilon: \n",
    "    guess_payment = (monthly_payment_low + monthly_payment_high)/2\n",
    "    pay_list = twelve_months_paid(balance, annual_interest, guess_payment)\n",
    "    payment, month, end_balance = pay_list[-1]\n",
    "    twelveth_month.append((payment, month, end_balance))\n",
    "    if end_balance < 0:\n",
    "        print(num_of_guesses)\n",
    "        print(payment, month, end_balance)\n",
    "        monthly_payment_high = guess_payment\n",
    "        end_balance = balance\n",
    "        num_of_guesses += 1\n",
    "\n",
    "    elif end_balance > epsilon:\n",
    "        print(num_of_guesses)\n",
    "        print(payment, month, end_balance)\n",
    "        monthly_payment_low = guess_payment\n",
    "        end_balance = balance\n",
    "        num_of_guesses += 1\n",
    "\n",
    "print(num_of_guesses)\n",
    "print(payment, month, end_balance)    \n",
    "print(f'Number of guesses: {num_of_guesses}')\n",
    "print(f'Lowest payment: {payment:.2f}')\n",
    "#print(pay_list)"
   ]
  },
  {
   "cell_type": "code",
   "execution_count": 8,
   "metadata": {},
   "outputs": [
    {
     "data": {
      "text/plain": [
       "[(95559.37349021016, 1, 919439.6115097897),\n",
       " (95559.37349021016, 2, 837671.8321922263),\n",
       " (95559.37349021016, 3, 754677.5361848995),\n",
       " (95559.37349021016, 4, 670438.3257374627),\n",
       " (95559.37349021016, 5, 584935.5271333144),\n",
       " (95559.37349021016, 6, 498150.18655010394),\n",
       " (95559.37349021016, 7, 410063.0658581453),\n",
       " (95559.37349021016, 8, 320654.6383558073),\n",
       " (95559.37349021016, 9, 229905.08444093418),\n",
       " (95559.37349021016, 10, 137794.28721733802),\n",
       " (95559.37349021016, 11, 44301.82803538791),\n",
       " (95559.37349021016, 12, -50593.01803429143)]"
      ]
     },
     "execution_count": 8,
     "metadata": {},
     "output_type": "execute_result"
    }
   ],
   "source": [
    "pay_list"
   ]
  },
  {
   "cell_type": "code",
   "execution_count": null,
   "metadata": {},
   "outputs": [],
   "source": []
  },
  {
   "cell_type": "code",
   "execution_count": null,
   "metadata": {},
   "outputs": [],
   "source": []
  },
  {
   "cell_type": "code",
   "execution_count": null,
   "metadata": {},
   "outputs": [],
   "source": []
  },
  {
   "cell_type": "code",
   "execution_count": null,
   "metadata": {},
   "outputs": [],
   "source": []
  },
  {
   "cell_type": "code",
   "execution_count": null,
   "metadata": {},
   "outputs": [],
   "source": []
  },
  {
   "cell_type": "code",
   "execution_count": null,
   "metadata": {},
   "outputs": [],
   "source": []
  }
 ],
 "metadata": {
  "kernelspec": {
   "display_name": "venv_mit",
   "language": "python",
   "name": "venv_mit"
  },
  "language_info": {
   "codemirror_mode": {
    "name": "ipython",
    "version": 3
   },
   "file_extension": ".py",
   "mimetype": "text/x-python",
   "name": "python",
   "nbconvert_exporter": "python",
   "pygments_lexer": "ipython3",
   "version": "3.8.8"
  }
 },
 "nbformat": 4,
 "nbformat_minor": 4
}
