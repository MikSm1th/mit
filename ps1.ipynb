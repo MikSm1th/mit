{
 "cells": [
  {
   "cell_type": "code",
   "execution_count": 1,
   "metadata": {},
   "outputs": [
    {
     "ename": "NameError",
     "evalue": "name 'balance' is not defined",
     "output_type": "error",
     "traceback": [
      "\u001b[0;31m---------------------------------------------------------------------------\u001b[0m",
      "\u001b[0;31mNameError\u001b[0m                                 Traceback (most recent call last)",
      "\u001b[0;32m<ipython-input-1-de44bb09174a>\u001b[0m in \u001b[0;36m<module>\u001b[0;34m\u001b[0m\n\u001b[0;32m----> 1\u001b[0;31m \u001b[0;32mfrom\u001b[0m \u001b[0mps1\u001b[0m \u001b[0;32mimport\u001b[0m \u001b[0mtwelve_months_paid\u001b[0m\u001b[0;34m\u001b[0m\u001b[0;34m\u001b[0m\u001b[0m\n\u001b[0m",
      "\u001b[0;32m~/mit/ps1.py\u001b[0m in \u001b[0;36m<module>\u001b[0;34m\u001b[0m\n\u001b[1;32m     38\u001b[0m     \u001b[0;32mreturn\u001b[0m \u001b[0mpay_list\u001b[0m\u001b[0;34m\u001b[0m\u001b[0;34m\u001b[0m\u001b[0m\n\u001b[1;32m     39\u001b[0m \u001b[0;34m\u001b[0m\u001b[0m\n\u001b[0;32m---> 40\u001b[0;31m \u001b[0mend_balance\u001b[0m \u001b[0;34m=\u001b[0m \u001b[0mbalance\u001b[0m\u001b[0;34m\u001b[0m\u001b[0;34m\u001b[0m\u001b[0m\n\u001b[0m\u001b[1;32m     41\u001b[0m \u001b[0mpayment\u001b[0m \u001b[0;34m=\u001b[0m \u001b[0;36m10\u001b[0m\u001b[0;34m\u001b[0m\u001b[0;34m\u001b[0m\u001b[0m\n\u001b[1;32m     42\u001b[0m \u001b[0;32mwhile\u001b[0m \u001b[0mend_balance\u001b[0m \u001b[0;34m>\u001b[0m \u001b[0;36m0\u001b[0m\u001b[0;34m:\u001b[0m\u001b[0;34m\u001b[0m\u001b[0;34m\u001b[0m\u001b[0m\n",
      "\u001b[0;31mNameError\u001b[0m: name 'balance' is not defined"
     ]
    }
   ],
   "source": [
    "from ps1 import twelve_months_paid"
   ]
  },
  {
   "cell_type": "code",
   "execution_count": 11,
   "metadata": {},
   "outputs": [],
   "source": [
    "def twelve_months_paid(balance, annual_interest, payment):\n",
    "    monthly_interest_rate = annual_interest/12.0\n",
    "    previous_balance = balance\n",
    "    minimum_monthly_payment = payment\n",
    "    pay_list = []\n",
    "    for i in range(1,13):\n",
    "        updated_balance = previous_balance * (1 + monthly_interest_rate) - minimum_monthly_payment\n",
    "        previous_balance = updated_balance\n",
    "        pay_list.append((minimum_monthly_payment,i,previous_balance))\n",
    "    return pay_list"
   ]
  },
  {
   "cell_type": "code",
   "execution_count": 12,
   "metadata": {},
   "outputs": [
    {
     "name": "stdout",
     "output_type": "stream",
     "text": [
      "finished\n"
     ]
    }
   ],
   "source": [
    "end_balance = balance\n",
    "while end_balance > 0: \n",
    "    payment = payment + 10\n",
    "    pay_list = twelve_months_paid(balance, annual_interest, payment)\n",
    "    payment, month, end_balance = pay_list[-1]\n",
    "print('finished')"
   ]
  },
  {
   "cell_type": "code",
   "execution_count": 13,
   "metadata": {},
   "outputs": [
    {
     "data": {
      "text/plain": [
       "(2970, 12, -74.97661314499283)"
      ]
     },
     "execution_count": 13,
     "metadata": {},
     "output_type": "execute_result"
    }
   ],
   "source": [
    "payment, month, end_balance"
   ]
  },
  {
   "cell_type": "code",
   "execution_count": 14,
   "metadata": {},
   "outputs": [],
   "source": [
    "less_than_zero = [i for i in pay_list if i[2] < 0]\n",
    "paid_off = [[(i) for i, j, k in less_than_zero], \n",
    "           [ j for i, j, k in less_than_zero ],\n",
    "           [ k for i, j, k in less_than_zero]]\n",
    "payment, month, balance = paid_off[0][0], min(paid_off[1]), max(paid_off[2])"
   ]
  },
  {
   "cell_type": "code",
   "execution_count": 15,
   "metadata": {},
   "outputs": [
    {
     "data": {
      "text/plain": [
       "(2970, 12, -74.97661314499283)"
      ]
     },
     "execution_count": 15,
     "metadata": {},
     "output_type": "execute_result"
    }
   ],
   "source": [
    "payment, month, balance"
   ]
  },
  {
   "cell_type": "code",
   "execution_count": 2,
   "metadata": {},
   "outputs": [],
   "source": [
    "def twelve_months_paid(balance, annual_interest, payment):\n",
    "    monthly_interest_rate = annual_interest/12.0\n",
    "    previous_balance = balance\n",
    "    minimum_monthly_payment = payment\n",
    "    pay_list = []\n",
    "    for i in range(1,13):\n",
    "        updated_balance = previous_balance * (1 + monthly_interest_rate) - minimum_monthly_payment\n",
    "        previous_balance = updated_balance\n",
    "        pay_list.append((minimum_monthly_payment,i,previous_balance))\n",
    "    return pay_list"
   ]
  },
  {
   "cell_type": "code",
   "execution_count": 11,
   "metadata": {},
   "outputs": [],
   "source": [
    "def bisection(low, high, maxiter, epsilon):\n",
    "    n = 1\n",
    "    while n < maxiter:\n",
    "        midpoint = (low + high) / 2\n",
    "        if midpoint == 0 or low-high/2 < epsilon:\n",
    "            return midpoint\n",
    "            break\n",
    "        elif midpoint > 0:\n",
    "            low = midpoint\n",
    "            n += 1\n",
    "        else:\n",
    "            high = midpoint\n",
    "            n += 1           "
   ]
  },
  {
   "cell_type": "code",
   "execution_count": 12,
   "metadata": {
    "scrolled": true
   },
   "outputs": [],
   "source": [
    "balance = 999999\n",
    "annual_interest = 0.18\n",
    "end_balance = balance\n",
    "#epsilon = 0.01\n",
    "monthly_payment_low = balance/12.0\n",
    "monthly_payment_high = (balance * (1 + (annual_interest/12.0))**12.0) / 12.0\n",
    "\n",
    "payment = (monthly_payment_high + monthly_payment_low)/2.0"
   ]
  },
  {
   "cell_type": "code",
   "execution_count": 13,
   "metadata": {
    "scrolled": true
   },
   "outputs": [
    {
     "ename": "TypeError",
     "evalue": "unsupported operand type(s) for -: 'float' and 'NoneType'",
     "output_type": "error",
     "traceback": [
      "\u001b[0;31m---------------------------------------------------------------------------\u001b[0m",
      "\u001b[0;31mTypeError\u001b[0m                                 Traceback (most recent call last)",
      "\u001b[0;32m<ipython-input-13-e8c6f99d3a40>\u001b[0m in \u001b[0;36m<module>\u001b[0;34m\u001b[0m\n\u001b[1;32m      1\u001b[0m \u001b[0;32mwhile\u001b[0m \u001b[0mend_balance\u001b[0m \u001b[0;34m>\u001b[0m \u001b[0;36m0\u001b[0m\u001b[0;34m:\u001b[0m\u001b[0;34m\u001b[0m\u001b[0;34m\u001b[0m\u001b[0m\n\u001b[1;32m      2\u001b[0m     \u001b[0mpayment\u001b[0m \u001b[0;34m=\u001b[0m \u001b[0mbisection\u001b[0m\u001b[0;34m(\u001b[0m\u001b[0mmonthly_payment_low\u001b[0m\u001b[0;34m,\u001b[0m \u001b[0mmonthly_payment_high\u001b[0m\u001b[0;34m,\u001b[0m \u001b[0;36m100\u001b[0m\u001b[0;34m,\u001b[0m \u001b[0;36m0.01\u001b[0m\u001b[0;34m)\u001b[0m\u001b[0;34m\u001b[0m\u001b[0;34m\u001b[0m\u001b[0m\n\u001b[0;32m----> 3\u001b[0;31m     \u001b[0mpay_list\u001b[0m \u001b[0;34m=\u001b[0m \u001b[0mtwelve_months_paid\u001b[0m\u001b[0;34m(\u001b[0m\u001b[0mbalance\u001b[0m\u001b[0;34m,\u001b[0m \u001b[0mannual_interest\u001b[0m\u001b[0;34m,\u001b[0m \u001b[0mpayment\u001b[0m\u001b[0;34m)\u001b[0m\u001b[0;34m\u001b[0m\u001b[0;34m\u001b[0m\u001b[0m\n\u001b[0m\u001b[1;32m      4\u001b[0m     \u001b[0mpayment\u001b[0m\u001b[0;34m,\u001b[0m \u001b[0mmonth\u001b[0m\u001b[0;34m,\u001b[0m \u001b[0mend_balance\u001b[0m \u001b[0;34m=\u001b[0m \u001b[0mpay_list\u001b[0m\u001b[0;34m[\u001b[0m\u001b[0;34m-\u001b[0m\u001b[0;36m1\u001b[0m\u001b[0;34m]\u001b[0m\u001b[0;34m\u001b[0m\u001b[0;34m\u001b[0m\u001b[0m\n\u001b[1;32m      5\u001b[0m \u001b[0mprint\u001b[0m\u001b[0;34m(\u001b[0m\u001b[0;34m'finished'\u001b[0m\u001b[0;34m)\u001b[0m\u001b[0;34m\u001b[0m\u001b[0;34m\u001b[0m\u001b[0m\n",
      "\u001b[0;32m<ipython-input-2-d206c31ea809>\u001b[0m in \u001b[0;36mtwelve_months_paid\u001b[0;34m(balance, annual_interest, payment)\u001b[0m\n\u001b[1;32m      5\u001b[0m     \u001b[0mpay_list\u001b[0m \u001b[0;34m=\u001b[0m \u001b[0;34m[\u001b[0m\u001b[0;34m]\u001b[0m\u001b[0;34m\u001b[0m\u001b[0;34m\u001b[0m\u001b[0m\n\u001b[1;32m      6\u001b[0m     \u001b[0;32mfor\u001b[0m \u001b[0mi\u001b[0m \u001b[0;32min\u001b[0m \u001b[0mrange\u001b[0m\u001b[0;34m(\u001b[0m\u001b[0;36m1\u001b[0m\u001b[0;34m,\u001b[0m\u001b[0;36m13\u001b[0m\u001b[0;34m)\u001b[0m\u001b[0;34m:\u001b[0m\u001b[0;34m\u001b[0m\u001b[0;34m\u001b[0m\u001b[0m\n\u001b[0;32m----> 7\u001b[0;31m         \u001b[0mupdated_balance\u001b[0m \u001b[0;34m=\u001b[0m \u001b[0mprevious_balance\u001b[0m \u001b[0;34m*\u001b[0m \u001b[0;34m(\u001b[0m\u001b[0;36m1\u001b[0m \u001b[0;34m+\u001b[0m \u001b[0mmonthly_interest_rate\u001b[0m\u001b[0;34m)\u001b[0m \u001b[0;34m-\u001b[0m \u001b[0mminimum_monthly_payment\u001b[0m\u001b[0;34m\u001b[0m\u001b[0;34m\u001b[0m\u001b[0m\n\u001b[0m\u001b[1;32m      8\u001b[0m         \u001b[0mprevious_balance\u001b[0m \u001b[0;34m=\u001b[0m \u001b[0mupdated_balance\u001b[0m\u001b[0;34m\u001b[0m\u001b[0;34m\u001b[0m\u001b[0m\n\u001b[1;32m      9\u001b[0m         \u001b[0mpay_list\u001b[0m\u001b[0;34m.\u001b[0m\u001b[0mappend\u001b[0m\u001b[0;34m(\u001b[0m\u001b[0;34m(\u001b[0m\u001b[0mminimum_monthly_payment\u001b[0m\u001b[0;34m,\u001b[0m\u001b[0mi\u001b[0m\u001b[0;34m,\u001b[0m\u001b[0mprevious_balance\u001b[0m\u001b[0;34m)\u001b[0m\u001b[0;34m)\u001b[0m\u001b[0;34m\u001b[0m\u001b[0;34m\u001b[0m\u001b[0m\n",
      "\u001b[0;31mTypeError\u001b[0m: unsupported operand type(s) for -: 'float' and 'NoneType'"
     ]
    }
   ],
   "source": [
    "while end_balance > 0: \n",
    "    mid_payment = (monthly_payment_low + monthly_payment_high)/2.0\n",
    "    if mid_payment = 0 or monthly_payment_high - monthly_payment_low < epsilon:\n",
    "        payment = mid_payment\n",
    "    elif mid_payment > \n",
    "    pay_list = twelve_months_paid(balance, annual_interest, payment)\n",
    "    payment, month, end_balance = pay_list[-1]\n",
    "print('finished')"
   ]
  },
  {
   "cell_type": "code",
   "execution_count": 8,
   "metadata": {},
   "outputs": [
    {
     "data": {
      "text/plain": [
       "[(95559.37349021016, 1, 919439.6115097897),\n",
       " (95559.37349021016, 2, 837671.8321922263),\n",
       " (95559.37349021016, 3, 754677.5361848995),\n",
       " (95559.37349021016, 4, 670438.3257374627),\n",
       " (95559.37349021016, 5, 584935.5271333144),\n",
       " (95559.37349021016, 6, 498150.18655010394),\n",
       " (95559.37349021016, 7, 410063.0658581453),\n",
       " (95559.37349021016, 8, 320654.6383558073),\n",
       " (95559.37349021016, 9, 229905.08444093418),\n",
       " (95559.37349021016, 10, 137794.28721733802),\n",
       " (95559.37349021016, 11, 44301.82803538791),\n",
       " (95559.37349021016, 12, -50593.01803429143)]"
      ]
     },
     "execution_count": 8,
     "metadata": {},
     "output_type": "execute_result"
    }
   ],
   "source": [
    "pay_list"
   ]
  },
  {
   "cell_type": "code",
   "execution_count": null,
   "metadata": {},
   "outputs": [],
   "source": []
  },
  {
   "cell_type": "code",
   "execution_count": null,
   "metadata": {},
   "outputs": [],
   "source": []
  },
  {
   "cell_type": "code",
   "execution_count": null,
   "metadata": {},
   "outputs": [],
   "source": []
  },
  {
   "cell_type": "code",
   "execution_count": null,
   "metadata": {},
   "outputs": [],
   "source": []
  },
  {
   "cell_type": "code",
   "execution_count": null,
   "metadata": {},
   "outputs": [],
   "source": []
  },
  {
   "cell_type": "code",
   "execution_count": null,
   "metadata": {},
   "outputs": [],
   "source": []
  }
 ],
 "metadata": {
  "kernelspec": {
   "display_name": "venv_mit",
   "language": "python",
   "name": "venv_mit"
  },
  "language_info": {
   "codemirror_mode": {
    "name": "ipython",
    "version": 3
   },
   "file_extension": ".py",
   "mimetype": "text/x-python",
   "name": "python",
   "nbconvert_exporter": "python",
   "pygments_lexer": "ipython3",
   "version": "3.8.8"
  }
 },
 "nbformat": 4,
 "nbformat_minor": 4
}
