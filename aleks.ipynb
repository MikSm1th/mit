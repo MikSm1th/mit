{
 "cells": [
  {
   "cell_type": "code",
   "execution_count": 3,
   "metadata": {},
   "outputs": [
    {
     "name": "stdout",
     "output_type": "stream",
     "text": [
      "Counting objects: 2, done.\n",
      "Delta compression using up to 4 threads.\n",
      "Compressing objects: 100% (2/2), done.\n",
      "Writing objects: 100% (2/2), 242 bytes | 0 bytes/s, done.\n",
      "Total 2 (delta 1), reused 0 (delta 0)\n",
      "remote: Resolving deltas: 100% (1/1), completed with 1 local object.\u001b[K\n",
      "To git@github.com:MikSm1th/mit.git\n",
      "   9c8dcca..72c46bc  main -> main\n"
     ]
    }
   ],
   "source": [
    "!./gitbsh >/dev/null 2>&1"
   ]
  },
  {
   "cell_type": "code",
   "execution_count": null,
   "metadata": {},
   "outputs": [],
   "source": []
  }
 ],
 "metadata": {
  "kernelspec": {
   "display_name": "venv_mit",
   "language": "python",
   "name": "venv_mit"
  },
  "language_info": {
   "codemirror_mode": {
    "name": "ipython",
    "version": 3
   },
   "file_extension": ".py",
   "mimetype": "text/x-python",
   "name": "python",
   "nbconvert_exporter": "python",
   "pygments_lexer": "ipython3",
   "version": "3.8.7"
  }
 },
 "nbformat": 4,
 "nbformat_minor": 4
}
