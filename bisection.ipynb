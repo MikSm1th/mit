{
 "cells": [
  {
   "cell_type": "code",
   "execution_count": 1,
   "metadata": {},
   "outputs": [],
   "source": [
    "from math import floor"
   ]
  },
  {
   "cell_type": "code",
   "execution_count": 20,
   "metadata": {},
   "outputs": [],
   "source": [
    "high = 1000000000\n",
    "low = 0\n",
    "ans = 184026123\n",
    "search_range = [low, high]"
   ]
  },
  {
   "cell_type": "code",
   "execution_count": 21,
   "metadata": {},
   "outputs": [],
   "source": [
    "def binary_search(search_range, answer, max_guess=50):\n",
    "    low, high = search_range[0], search_range[1]\n",
    "    guess = floor((high+low)//2)\n",
    "    no_of_guesses = 0\n",
    "    while guess != ans and max_guess > 0:        \n",
    "        max_guess -= 1\n",
    "        no_of_guesses += 1\n",
    "        print(f'low: {low}, \\tguess: {guess}, \\thigh: {high}, \\tguess #: {no_of_guesses}')\n",
    "        if guess > ans:\n",
    "            high = guess\n",
    "            guess = floor((high+low)//2)\n",
    "        elif guess < ans:\n",
    "            low = guess\n",
    "            guess = floor((high+low)//2)        \n",
    "    print(f'The answer is: {ans}')\n",
    "        "
   ]
  },
  {
   "cell_type": "code",
   "execution_count": 22,
   "metadata": {},
   "outputs": [
    {
     "name": "stdout",
     "output_type": "stream",
     "text": [
      "low: 0, \tguess: 500000000, \thigh: 1000000000, \tguess #: 1\n",
      "low: 0, \tguess: 250000000, \thigh: 500000000, \tguess #: 2\n",
      "low: 0, \tguess: 125000000, \thigh: 250000000, \tguess #: 3\n",
      "low: 125000000, \tguess: 187500000, \thigh: 250000000, \tguess #: 4\n",
      "low: 125000000, \tguess: 156250000, \thigh: 187500000, \tguess #: 5\n",
      "low: 156250000, \tguess: 171875000, \thigh: 187500000, \tguess #: 6\n",
      "low: 171875000, \tguess: 179687500, \thigh: 187500000, \tguess #: 7\n",
      "low: 179687500, \tguess: 183593750, \thigh: 187500000, \tguess #: 8\n",
      "low: 183593750, \tguess: 185546875, \thigh: 187500000, \tguess #: 9\n",
      "low: 183593750, \tguess: 184570312, \thigh: 185546875, \tguess #: 10\n",
      "low: 183593750, \tguess: 184082031, \thigh: 184570312, \tguess #: 11\n",
      "low: 183593750, \tguess: 183837890, \thigh: 184082031, \tguess #: 12\n",
      "low: 183837890, \tguess: 183959960, \thigh: 184082031, \tguess #: 13\n",
      "low: 183959960, \tguess: 184020995, \thigh: 184082031, \tguess #: 14\n",
      "low: 184020995, \tguess: 184051513, \thigh: 184082031, \tguess #: 15\n",
      "low: 184020995, \tguess: 184036254, \thigh: 184051513, \tguess #: 16\n",
      "low: 184020995, \tguess: 184028624, \thigh: 184036254, \tguess #: 17\n",
      "low: 184020995, \tguess: 184024809, \thigh: 184028624, \tguess #: 18\n",
      "low: 184024809, \tguess: 184026716, \thigh: 184028624, \tguess #: 19\n",
      "low: 184024809, \tguess: 184025762, \thigh: 184026716, \tguess #: 20\n",
      "low: 184025762, \tguess: 184026239, \thigh: 184026716, \tguess #: 21\n",
      "low: 184025762, \tguess: 184026000, \thigh: 184026239, \tguess #: 22\n",
      "low: 184026000, \tguess: 184026119, \thigh: 184026239, \tguess #: 23\n",
      "low: 184026119, \tguess: 184026179, \thigh: 184026239, \tguess #: 24\n",
      "low: 184026119, \tguess: 184026149, \thigh: 184026179, \tguess #: 25\n",
      "low: 184026119, \tguess: 184026134, \thigh: 184026149, \tguess #: 26\n",
      "low: 184026119, \tguess: 184026126, \thigh: 184026134, \tguess #: 27\n",
      "low: 184026119, \tguess: 184026122, \thigh: 184026126, \tguess #: 28\n",
      "low: 184026122, \tguess: 184026124, \thigh: 184026126, \tguess #: 29\n",
      "The answer is: 184026123\n"
     ]
    }
   ],
   "source": [
    "binary_search(search_range, ans)"
   ]
  },
  {
   "cell_type": "code",
   "execution_count": null,
   "metadata": {},
   "outputs": [],
   "source": []
  }
 ],
 "metadata": {
  "kernelspec": {
   "display_name": "venv_mit",
   "language": "python",
   "name": "venv_mit"
  },
  "language_info": {
   "codemirror_mode": {
    "name": "ipython",
    "version": 3
   },
   "file_extension": ".py",
   "mimetype": "text/x-python",
   "name": "python",
   "nbconvert_exporter": "python",
   "pygments_lexer": "ipython3",
   "version": "3.8.8"
  }
 },
 "nbformat": 4,
 "nbformat_minor": 4
}
