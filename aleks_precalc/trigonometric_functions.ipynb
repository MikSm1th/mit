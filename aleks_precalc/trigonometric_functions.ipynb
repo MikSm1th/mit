{
 "cells": [
  {
   "cell_type": "markdown",
   "metadata": {},
   "source": [
    "## Finding values of trigonometric functions given information about an angle:\n",
    "### Problem type 1"
   ]
  },
  {
   "cell_type": "code",
   "execution_count": 1,
   "metadata": {},
   "outputs": [],
   "source": [
    "import numpy as np\n",
    "import pandas as pd\n",
    "import matplotlib.pyplot as plt\n",
    "import sympy as sym\n",
    "import math\n",
    "import matplotlib as mpl\n",
    "import mpl_toolkits.axisartist as AxisArtist\n",
    "import matplotlib.ticker as ticker\n",
    "import grids as g"
   ]
  },
  {
   "cell_type": "code",
   "execution_count": 2,
   "metadata": {},
   "outputs": [],
   "source": [
    "plt.rcParams['figure.facecolor'] = 'grey'\n",
    "plt.rcParams['figure.figsize'] = (8,8)"
   ]
  },
  {
   "cell_type": "code",
   "execution_count": 3,
   "metadata": {},
   "outputs": [],
   "source": [
    "def on_unit_circle(x, y):\n",
    "    z = x**2 + y**2\n",
    "    print(int(round(np.sqrt(z), 3)) == 1)\n",
    "    print(f'sqrt({int(round(z, 3))})')\n",
    "    return z"
   ]
  },
  {
   "cell_type": "code",
   "execution_count": 4,
   "metadata": {},
   "outputs": [
    {
     "name": "stdout",
     "output_type": "stream",
     "text": [
      "True\n",
      "sqrt(1)\n"
     ]
    }
   ],
   "source": [
    "z = on_unit_circle(1/2, np.sqrt(3)/2)"
   ]
  },
  {
   "cell_type": "code",
   "execution_count": 59,
   "metadata": {},
   "outputs": [],
   "source": [
    "def trig_func_val_ang_1(func,x,y,r):\n",
    "    if func == 'sin':\n",
    "        if math.isqrt(r) ** 2 == r:\n",
    "            print(y/math.sqrt(r))\n",
    "        else:\n",
    "            r = sym.sqrt(r)\n",
    "            print(y/r)\n",
    "    elif func == 'cos':\n",
    "        if math.isqrt(r) ** 2 == r:\n",
    "            print(x/math.sqrt(r))\n",
    "        else:\n",
    "            r = sym.sqrt(r)\n",
    "            print(x/r)\n",
    "    elif func == 'tan':\n",
    "        print(sym.Rational(y,x))\n",
    "    elif func == 'csc':\n",
    "        if math.isqrt(r) ** 2 == r:\n",
    "            print(math.sqrt(r)/y)\n",
    "        else:\n",
    "            r = sym.sqrt(r)\n",
    "            print(r/y)\n",
    "    elif func == 'sec':\n",
    "        if math.isqrt(r) ** 2 == r:\n",
    "            print(math.sqrt(r)/x)\n",
    "        else:\n",
    "            r = sym.sqrt(r)\n",
    "            print(r/x)\n",
    "    elif func == 'cot':\n",
    "        print(x/y)\n",
    "    else:\n",
    "        print('invalid input')"
   ]
  },
  {
   "cell_type": "code",
   "execution_count": 60,
   "metadata": {},
   "outputs": [
    {
     "name": "stdout",
     "output_type": "stream",
     "text": [
      "False\n",
      "sqrt(16)\n"
     ]
    }
   ],
   "source": [
    "z = on_unit_circle(np.sqrt(7),-3)\n",
    "z = int(z)"
   ]
  },
  {
   "cell_type": "code",
   "execution_count": 61,
   "metadata": {},
   "outputs": [
    {
     "data": {
      "text/plain": [
       "16"
      ]
     },
     "execution_count": 61,
     "metadata": {},
     "output_type": "execute_result"
    }
   ],
   "source": [
    "z"
   ]
  },
  {
   "cell_type": "code",
   "execution_count": 62,
   "metadata": {},
   "outputs": [
    {
     "name": "stdout",
     "output_type": "stream",
     "text": [
      "0.25*sqrt(7)\n"
     ]
    }
   ],
   "source": [
    "trig_func_val_ang_1('cos',sym.sqrt(7),-3,z)"
   ]
  },
  {
   "cell_type": "code",
   "execution_count": 63,
   "metadata": {},
   "outputs": [
    {
     "name": "stdout",
     "output_type": "stream",
     "text": [
      "0.571428571428571*sqrt(7)\n"
     ]
    }
   ],
   "source": [
    "trig_func_val_ang_1('sec',sym.sqrt(7),-3,z)"
   ]
  },
  {
   "cell_type": "code",
   "execution_count": 64,
   "metadata": {},
   "outputs": [
    {
     "name": "stdout",
     "output_type": "stream",
     "text": [
      "-sqrt(7)/3\n"
     ]
    }
   ],
   "source": [
    "trig_func_val_ang_1('cot',sym.sqrt(7),-3,z)"
   ]
  },
  {
   "cell_type": "code",
   "execution_count": 67,
   "metadata": {},
   "outputs": [
    {
     "data": {
      "text/latex": [
       "$\\displaystyle \\frac{4 \\sqrt{7}}{7}$"
      ],
      "text/plain": [
       "4*sqrt(7)/7"
      ]
     },
     "execution_count": 67,
     "metadata": {},
     "output_type": "execute_result"
    }
   ],
   "source": [
    "(4*sym.sqrt(7))/7"
   ]
  },
  {
   "cell_type": "code",
   "execution_count": null,
   "metadata": {},
   "outputs": [],
   "source": []
  }
 ],
 "metadata": {
  "kernelspec": {
   "display_name": "venv_mit",
   "language": "python",
   "name": "venv_mit"
  },
  "language_info": {
   "codemirror_mode": {
    "name": "ipython",
    "version": 3
   },
   "file_extension": ".py",
   "mimetype": "text/x-python",
   "name": "python",
   "nbconvert_exporter": "python",
   "pygments_lexer": "ipython3",
   "version": "3.8.8"
  }
 },
 "nbformat": 4,
 "nbformat_minor": 4
}
