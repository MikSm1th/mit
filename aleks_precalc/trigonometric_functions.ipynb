{
 "cells": [
  {
   "cell_type": "markdown",
   "metadata": {},
   "source": [
    "## Finding values of trigonometric functions given information about an angle:\n",
    "### Problem type 1"
   ]
  },
  {
   "cell_type": "code",
   "execution_count": 1,
   "metadata": {},
   "outputs": [],
   "source": [
    "import numpy as np\n",
    "import pandas as pd\n",
    "import matplotlib.pyplot as plt\n",
    "import sympy as sym\n",
    "import math\n",
    "import matplotlib as mpl\n",
    "import mpl_toolkits.axisartist as AxisArtist\n",
    "import matplotlib.ticker as ticker\n",
    "import grids as g"
   ]
  },
  {
   "cell_type": "code",
   "execution_count": 2,
   "metadata": {},
   "outputs": [],
   "source": [
    "plt.rcParams['figure.facecolor']='grey'\n",
    "plt.rcParams['figure.figsize'] = (8,8)"
   ]
  },
  {
   "cell_type": "code",
   "execution_count": 5,
   "metadata": {},
   "outputs": [],
   "source": [
    "def on_unit_circle(x, y):\n",
    "    z = x**2 + y**2\n",
    "    print(np.sqrt(z) == 1)\n",
    "    print(f'sqrt({z})')\n",
    "    return z"
   ]
  },
  {
   "cell_type": "code",
   "execution_count": 6,
   "metadata": {},
   "outputs": [
    {
     "name": "stdout",
     "output_type": "stream",
     "text": [
      "False\n",
      "sqrt(53)\n"
     ]
    }
   ],
   "source": [
    "z = on_unit_circle(-2,7)"
   ]
  },
  {
   "cell_type": "code",
   "execution_count": 9,
   "metadata": {},
   "outputs": [],
   "source": [
    "def trig_func_val_ang_1(func):\n",
    "    if func == 'sin':\n",
    "        y = float(input('y?: '))\n",
    "        r = float(input('r?: '))\n",
    "        print(sym.Rational(y/r))\n",
    "    elif func == 'cos':\n",
    "        x = float(input('x?: '))    \n",
    "        r = float(input('r?: '))  \n",
    "        print(sym.Rational(x/r))  \n",
    "    elif func == 'tan':\n",
    "        y = float(input('y?: '))\n",
    "        x = float(input('x?: '))\n",
    "        print(sym.Rational(y/x))\n",
    "    elif func == 'csc':\n",
    "        r = float(input('r?: '))\n",
    "        y = float(input('y?: '))\n",
    "        print(sym.Rational(r/y))\n",
    "    elif func == 'sec':\n",
    "        r = float(input('r?: '))\n",
    "        x = float(input('x?: '))\n",
    "        print(sym.Rational(r/x))\n",
    "    elif func == 'cot':\n",
    "        x = float(input('x?: '))\n",
    "        y = float(input('y?: '))\n",
    "        print(sym.Rational(x/y))\n",
    "    else:\n",
    "        print('invalid input')"
   ]
  },
  {
   "cell_type": "code",
   "execution_count": 8,
   "metadata": {},
   "outputs": [
    {
     "name": "stdin",
     "output_type": "stream",
     "text": [
      "y?:  1\n",
      "r?:  2\n"
     ]
    },
    {
     "name": "stdout",
     "output_type": "stream",
     "text": [
      "1/2\n"
     ]
    }
   ],
   "source": [
    "trig_func_val_ang_1('sin')"
   ]
  },
  {
   "cell_type": "code",
   "execution_count": null,
   "metadata": {},
   "outputs": [],
   "source": []
  }
 ],
 "metadata": {
  "kernelspec": {
   "display_name": "venv_mit",
   "language": "python",
   "name": "venv_mit"
  },
  "language_info": {
   "codemirror_mode": {
    "name": "ipython",
    "version": 3
   },
   "file_extension": ".py",
   "mimetype": "text/x-python",
   "name": "python",
   "nbconvert_exporter": "python",
   "pygments_lexer": "ipython3",
   "version": "3.8.8"
  }
 },
 "nbformat": 4,
 "nbformat_minor": 4
}
