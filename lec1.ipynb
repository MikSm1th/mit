{
 "cells": [
  {
   "cell_type": "markdown",
   "metadata": {},
   "source": [
    "### Declarative Knowledge is composed of a statement of fact.\n",
    "\n",
    "- A good health care plan improves the quality of medical care while saving money. \n",
    "\n",
    "- y is the square root of x if and only if y*y=x"
   ]
  },
  {
   "cell_type": "markdown",
   "metadata": {},
   "source": [
    "### Imperative Knowledge \n",
    "\n",
    "- Imperative Knowledge is about how to accomplish something.\n",
    "    - Like a recipe. \n",
    "    - Square root example\n",
    "    \n",
    "1. Start with a guess, g\n",
    "2. If $g\\times g$ is close enough to $x$, the $g$ is a good approximation for the square root of $x$.\n",
    "3. Otherwise, create a new guess by averaeing $g$ and $x/g$ \n",
    "4. Using this new guess, go back to step 2 "
   ]
  },
  {
   "cell_type": "markdown",
   "metadata": {},
   "source": [
    "Algorithm - a set of instruction on how to perform a computation\n",
    "- Converged\n",
    "- Instruction set\n",
    "- Flow of control\n",
    "- Termination condition"
   ]
  },
  {
   "cell_type": "markdown",
   "metadata": {},
   "source": [
    "### Fixed function computers\n",
    "### Stored program computer"
   ]
  },
  {
   "cell_type": "markdown",
   "metadata": {},
   "source": [
    "### What is a programming language?\n",
    "- Syntax\n",
    "- Static somantics"
   ]
  },
  {
   "cell_type": "code",
   "execution_count": null,
   "metadata": {},
   "outputs": [],
   "source": []
  }
 ],
 "metadata": {
  "kernelspec": {
   "display_name": "venv_mit",
   "language": "python",
   "name": "venv_mit"
  },
  "language_info": {
   "codemirror_mode": {
    "name": "ipython",
    "version": 3
   },
   "file_extension": ".py",
   "mimetype": "text/x-python",
   "name": "python",
   "nbconvert_exporter": "python",
   "pygments_lexer": "ipython3",
   "version": "3.8.7"
  }
 },
 "nbformat": 4,
 "nbformat_minor": 4
}
